{
 "cells": [
  {
   "cell_type": "code",
   "execution_count": 1,
   "id": "37d6ba78-e368-4a91-bceb-0464389c9706",
   "metadata": {},
   "outputs": [],
   "source": [
    "!mkdir ~/dengue/af3_models"
   ]
  },
  {
   "cell_type": "code",
   "execution_count": 6,
   "id": "14baa448-b2b1-4707-a045-df1f8fac546a",
   "metadata": {},
   "outputs": [
    {
     "name": "stdout",
     "output_type": "stream",
     "text": [
      "python run_alphafold.py     --json_path=/opt/xchem-fragalysis-2/mferla/dengue/af3_models/fusion.json     --output_dir=/opt/xchem-fragalysis-2/mferla/dengue/af3_models     --db_dir=/tmp/public_databases     --model_dir=/tmp/af3_weights;\n"
     ]
    },
    {
     "data": {
      "text/plain": [
       "436"
      ]
     },
     "execution_count": 6,
     "metadata": {},
     "output_type": "execute_result"
    }
   ],
   "source": [
    "fusion_seq = 'MADLELERAADVKWEDQAEISGSSPILSITISEDGSMSIKNEEEEQILGGGGSGGGGAGVLWDVPSPPPMGKAELEDGAYRIKQKGILGYSQIGAGVYKEGTFHTMWHVTRGAVLMHKGKRIEPSWADVKKDLISYGGGWKLEGEWKEGEEVQVLALEPGKNPRAVQTKPGLFKTNAGTIGAVSLDFSPGTSGSPIIDKKGKVVGLYGNGVVTRSGAYVSAIAQTEKSIEDNPEIEDDIFRK'\n",
    "\n",
    "import json\n",
    "from pathlib import Path\n",
    "\n",
    "name = 'fusion'\n",
    "sequence = fusion_seq\n",
    "\n",
    "prot_sequence = dict(id='A', sequence=sequence, modifications=[], unpairedMsa=None, pairedMsa=None)\n",
    "# zn_sequence = dict(id='Z', ccdCodes=['ZN'])\n",
    "\n",
    "job = dict(name=name,\n",
    "           modelSeeds=[0,],# 123, 666, 888, 314159],\n",
    "           sequences=[dict(protein=prot_sequence),\n",
    "                     ],\n",
    "           dialect='alphafold3',\n",
    "           version=2\n",
    "          )\n",
    "\n",
    "path = Path(f'~/dengue/af3_models/{name}.json').expanduser()\n",
    "print(f'''python run_alphafold.py \\\n",
    "    --json_path={path} \\\n",
    "    --output_dir={path.parent} \\\n",
    "    --db_dir=/tmp/public_databases \\\n",
    "    --model_dir=/tmp/af3_weights;''')\n",
    "path.write_text( json.dumps(job) )\n"
   ]
  },
  {
   "cell_type": "code",
   "execution_count": 7,
   "id": "0224af8c-4ac3-478e-a6d4-0be1964127c9",
   "metadata": {},
   "outputs": [
    {
     "name": "stdout",
     "output_type": "stream",
     "text": [
      "python run_alphafold.py     --json_path=/opt/xchem-fragalysis-2/mferla/dengue/af3_models/split_full.json     --output_dir=/opt/xchem-fragalysis-2/mferla/dengue/af3_models     --db_dir=/tmp/public_databases     --model_dir=/tmp/af3_weights;\n"
     ]
    },
    {
     "data": {
      "text/plain": [
       "557"
      ]
     },
     "execution_count": 7,
     "metadata": {},
     "output_type": "execute_result"
    }
   ],
   "source": [
    "import json\n",
    "from pathlib import Path\n",
    "\n",
    "name = 'split_full'\n",
    "\n",
    "protA_sequence = dict(id='A', sequence='MADLELERAADVKWEDQAEISGSSPILSITISEDGSMSIKNEEEEQIL', modifications=[], unpairedMsa=None, pairedMsa=None)\n",
    "protB_sequence = dict(id='B', sequence='AGVLWDVPSPPPMGKAELEDGAYRIKQKGILGYSQIGAGVYKEGTFHTMWHVTRGAVLMHKGKRIEPSWADVKKDLISYGGGWKLEGEWKEGEEVQVLALEPGKNPRAVQTKPGLFKTNAGTIGAVSLDFSPGTSGSPIIDKKGKVVGLYGNGVVTRSGAYVSAIAQTEKSIEDNPEIEDDIFRK', modifications=[], unpairedMsa=None, pairedMsa=None)\n",
    "\n",
    "job = dict(name=name,\n",
    "           modelSeeds=[0, 123, 666, 888, 314159],\n",
    "           sequences=[dict(protein=protA_sequence),\n",
    "                      dict(protein=protB_sequence),\n",
    "                     ],\n",
    "           dialect='alphafold3',\n",
    "           version=2\n",
    "          )\n",
    "\n",
    "path = Path(f'~/dengue/af3_models/{name}.json').expanduser()\n",
    "print(f'''python run_alphafold.py \\\n",
    "    --json_path={path} \\\n",
    "    --output_dir={path.parent} \\\n",
    "    --db_dir=/tmp/public_databases \\\n",
    "    --model_dir=/tmp/af3_weights;''')\n",
    "path.write_text( json.dumps(job) )\n"
   ]
  },
  {
   "cell_type": "code",
   "execution_count": 8,
   "id": "bd58e466-7b05-4fd9-96fd-9f9afdaa240e",
   "metadata": {},
   "outputs": [
    {
     "name": "stdout",
     "output_type": "stream",
     "text": [
      "python run_alphafold.py     --json_path=/opt/xchem-fragalysis-2/mferla/dengue/af3_models/split_andre.json     --output_dir=/opt/xchem-fragalysis-2/mferla/dengue/af3_models     --db_dir=/tmp/public_databases     --model_dir=/tmp/af3_weights;\n"
     ]
    },
    {
     "data": {
      "text/plain": [
       "523"
      ]
     },
     "execution_count": 8,
     "metadata": {},
     "output_type": "execute_result"
    }
   ],
   "source": [
    "import json\n",
    "from pathlib import Path\n",
    "\n",
    "name = 'split_andre'\n",
    "\n",
    "protA_sequence = dict(id='A', sequence='MADLELERAADVKWEDQAEISGSSPILSITISEDGSMSIKN', modifications=[], unpairedMsa=None, pairedMsa=None)\n",
    "protB_sequence = dict(id='B', sequence='AELEDGAYRIKQKGILGYSQIGAGVYKEGTFHTMWHVTRGAVLMHKGKRIEPSWADVKKDLISYGGGWKLEGEWKEGEEVQVLALEPGKNPRAVQTKPGLFKTNAGTIGAVSLDFSPGTSGSPIIDKKGKVVGLYGNGVVTRSGAYVSAIAQTEKSI', modifications=[], unpairedMsa=None, pairedMsa=None)\n",
    "\n",
    "job = dict(name=name,\n",
    "           modelSeeds=[0, 123, 666, 888, 314159],\n",
    "           sequences=[dict(protein=protA_sequence),\n",
    "                      dict(protein=protB_sequence),\n",
    "                     ],\n",
    "           dialect='alphafold3',\n",
    "           version=2\n",
    "          )\n",
    "\n",
    "path = Path(f'~/dengue/af3_models/{name}.json').expanduser()\n",
    "print(f'''python run_alphafold.py \\\n",
    "    --json_path={path} \\\n",
    "    --output_dir={path.parent} \\\n",
    "    --db_dir=/tmp/public_databases \\\n",
    "    --model_dir=/tmp/af3_weights;''')\n",
    "path.write_text( json.dumps(job) )\n"
   ]
  },
  {
   "metadata": {},
   "cell_type": "markdown",
   "source": "## Deviation",
   "id": "49360e2bdbf71d15"
  },
  {
   "cell_type": "code",
   "execution_count": null,
   "id": "206e94e3-75bf-4e7c-91ed-5e82f66eed9c",
   "metadata": {},
   "outputs": [],
   "source": [
    "import gemmi\n",
    "import numpy as np\n",
    "import json\n",
    "\n",
    "def get_rmsd(ref_model, mob_model, residue_pairs):\n",
    "    ref_positions = []\n",
    "    mob_positions = []\n",
    "    \n",
    "    for (res1, res2) in residue_pairs:\n",
    "        chain_1, resnum_1 = res1\n",
    "        chain_2, resnum_2 = res2\n",
    "    \n",
    "        res1_atoms = ref_model[chain_1][resnum_1-1]['CA'][0]\n",
    "        res2_atoms = mob_model[chain_2][resnum_2-1]['CA'][0]\n",
    "        ref_positions.append(res1_atoms.pos)\n",
    "        mob_positions.append(res2_atoms.pos)\n",
    "    \n",
    "    transformation = gemmi.superpose_positions(mob_positions, ref_positions)\n",
    "    return transformation.rmsd\n",
    "\n",
    "ref: gemmi.Model = gemmi.read_structure(\"af3_models/split_andre/split_andre_model.cif\")[0]\n",
    "data = []\n",
    "info = json.load(open('af3_models/split_andre/split_andre_data.json'))\n",
    "\n",
    "for path in Path('af3_models/split_andre').glob('*/model.cif'):\n",
    "    name = path.parent.name\n",
    "    query_model: gemmi.Model = gemmi.read_structure(path.as_posix())[0]\n",
    "    #\n",
    "    residue_pairs = []\n",
    "    for chain in info['sequences']:\n",
    "        if 'protein' not in chain:\n",
    "            continue\n",
    "        for i in range(1, len(chain['protein']['sequence'])+1):\n",
    "            residue_pairs.append(((chain['protein']['id'], i), (chain['protein']['id'], i)))\n",
    "    data.append({'name': name, 'experiment': 'split_andre', 'rmsd': get_rmsd(ref, query_model, residue_pairs)})\n",
    "\n",
    "\n",
    "chainB_offset = len('AGVLWDVPSPPPMGK')\n",
    "for path in Path('af3_models/split_full').glob('*/model.cif'):\n",
    "    name = path.parent.name\n",
    "    query_model: gemmi.Model = gemmi.read_structure(path.as_posix())[0]\n",
    "    #\n",
    "    residue_pairs = []\n",
    "    for chain in info['sequences']:\n",
    "        if 'protein' not in chain:\n",
    "            continue\n",
    "        for i in range(1, len(chain['protein']['sequence'])+1):\n",
    "            residue_pairs.append(((chain['protein']['id'], i), (chain['protein']['id'], i if chain['protein']['id']=='A' else i+chainB_offset)))\n",
    "    data.append({'name': name, 'experiment': 'split_full', 'rmsd': get_rmsd(ref, query_model, residue_pairs)})\n",
    "\n",
    "chainB_offset = len('MADLELERAADVKWEDQAEISGSSPILSITISEDGSMSIKNEEEEQILGGGGSGGGGAGVLWDVPSPPPMGK')\n",
    "for path in Path('af3_models/fusion').glob('*/model.cif'):\n",
    "    name = path.parent.name\n",
    "    query_model: gemmi.Model = gemmi.read_structure(path.as_posix())[0]\n",
    "    #\n",
    "    residue_pairs = []\n",
    "    for chain in info['sequences']:\n",
    "        if 'protein' not in chain:\n",
    "            continue\n",
    "        for i in range(1, len(chain['protein']['sequence'])+1):\n",
    "            residue_pairs.append(((chain['protein']['id'], i), ('A', i if chain['protein']['id']=='A' else i+chainB_offset)))\n",
    "    data.append({'name': name, 'experiment': 'fusion', 'rmsd': get_rmsd(ref, query_model, residue_pairs)})\n",
    "    \n",
    "import pandas as pd\n",
    "\n",
    "df = pd.DataFrame(data).sort_values('rmsd')\n",
    "df.to_csv('af3_rmsds.csv')"
   ]
  }
 ],
 "metadata": {
  "kernelspec": {
   "display_name": "Python [conda env:base] *",
   "language": "python",
   "name": "conda-base-py"
  },
  "language_info": {
   "codemirror_mode": {
    "name": "ipython",
    "version": 3
   },
   "file_extension": ".py",
   "mimetype": "text/x-python",
   "name": "python",
   "nbconvert_exporter": "python",
   "pygments_lexer": "ipython3",
   "version": "3.11.10"
  }
 },
 "nbformat": 4,
 "nbformat_minor": 5
}
